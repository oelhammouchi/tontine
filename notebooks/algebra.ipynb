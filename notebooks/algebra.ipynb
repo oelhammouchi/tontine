{
 "cells": [
  {
   "cell_type": "code",
   "execution_count": 10,
   "metadata": {},
   "outputs": [],
   "source": [
    "from sympy import *\n",
    "\n",
    "n, k, r, t, v, C = symbols(\"n k r t v C\")\n",
    "w1, w2, w3, w4 = symbols(\"w1:5\")\n",
    "\n",
    "p_x = Function(\"p_x\")\n",
    "gamma, lamda = symbols(\"gamma lambda\")"
   ]
  },
  {
   "cell_type": "code",
   "execution_count": 8,
   "metadata": {},
   "outputs": [],
   "source": [
    "def fia_payout(w1):\n",
    "    return (w1 * v / (1 + C)) * (\n",
    "        1 / (Sum(exp(-r * t) * p_x(t), (t, 0, oo)))\n",
    "    )\n",
    "\n",
    "def uia_payout(\n",
    "    w2\n",
    "):\n",
    "    return w2 * v / ((1 + C) * Sum(p_x(t), (t, 0, oo)))\n",
    "\n",
    "def tto_payout(w3):\n",
    "  return (w3 * v / (1 + C)) * (\n",
    "        1 / (Sum(exp(-r * t) * (1 - (1 - p_x(t)) ** n), (t, 0, oo)))\n",
    "    )\n",
    "\n",
    "def uto_payout(w4):\n",
    "    return w4 * v / ((1 + C) * Sum(1 - (1 - p_x(t)) ** n, (t, 0, oo)))\n"
   ]
  },
  {
   "cell_type": "code",
   "execution_count": 16,
   "metadata": {},
   "outputs": [],
   "source": [
    "summand = binomial(n - 1, k) * p_x(t)**(k + 1) * (1 - p_x(t))**(n - 1 - k) * (1 / (1 - gamma)) * (fia_payout(w1) + uia_payout(w2) + tto_payout(w3) + uto_payout(w4))**(1 - gamma)\n",
    "\n",
    "L = Sum(exp(-r * t) * Sum(summand, (k, 0, n - 1)), (t, 0, oo))"
   ]
  },
  {
   "cell_type": "code",
   "execution_count": 17,
   "metadata": {},
   "outputs": [
    {
     "data": {
      "text/latex": [
       "$\\displaystyle \\sum_{t=0}^{\\infty} e^{- r t} \\sum_{k=0}^{n - 1} \\frac{\\left(1 - p_{x}{\\left(t \\right)}\\right)^{- k + n - 1} \\left(\\left(\\frac{v w_{1}}{\\left(C + 1\\right) \\sum_{t=0}^{\\infty} p_{x}{\\left(t \\right)} e^{- r t}} + \\frac{v w_{2}}{\\left(C + 1\\right) \\sum_{t=0}^{\\infty} p_{x}{\\left(t \\right)}} + \\frac{v w_{3}}{\\left(C + 1\\right) \\sum_{t=0}^{\\infty} \\left(1 - \\left(1 - p_{x}{\\left(t \\right)}\\right)^{n}\\right) e^{- r t}} + \\frac{v w_{4}}{\\left(C + 1\\right) \\sum_{t=0}^{\\infty} \\left(1 - \\left(1 - p_{x}{\\left(t \\right)}\\right)^{n}\\right)}\\right)^{1 - \\gamma}\\right) p_{x}^{k + 1}{\\left(t \\right)} {\\binom{n - 1}{k}}}{1 - \\gamma}$"
      ],
      "text/plain": [
       "Sum(exp(-r*t)*Sum((1 - p_x(t))**(-k + n - 1)*(v*w1/((C + 1)*Sum(p_x(t)*exp(-r*t), (t, 0, oo))) + v*w2/((C + 1)*Sum(p_x(t), (t, 0, oo))) + v*w3/((C + 1)*Sum((1 - (1 - p_x(t))**n)*exp(-r*t), (t, 0, oo))) + v*w4/((C + 1)*Sum(1 - (1 - p_x(t))**n, (t, 0, oo))))**(1 - gamma)*p_x(t)**(k + 1)*binomial(n - 1, k)/(1 - gamma), (k, 0, n - 1)), (t, 0, oo))"
      ]
     },
     "execution_count": 17,
     "metadata": {},
     "output_type": "execute_result"
    }
   ],
   "source": [
    "L"
   ]
  },
  {
   "cell_type": "code",
   "execution_count": 18,
   "metadata": {},
   "outputs": [
    {
     "data": {
      "text/latex": [
       "$\\displaystyle \\sum_{t=0}^{\\infty} e^{- r t} \\sum_{k=0}^{n - 1} \\frac{v \\left(1 - p_{x}{\\left(t \\right)}\\right)^{- k + n - 1} \\left(\\left(\\frac{v w_{1}}{\\left(C + 1\\right) \\sum_{t=0}^{\\infty} p_{x}{\\left(t \\right)} e^{- r t}} + \\frac{v w_{2}}{\\left(C + 1\\right) \\sum_{t=0}^{\\infty} p_{x}{\\left(t \\right)}} + \\frac{v w_{3}}{\\left(C + 1\\right) \\sum_{t=0}^{\\infty} \\left(1 - \\left(1 - p_{x}{\\left(t \\right)}\\right)^{n}\\right) e^{- r t}} + \\frac{v w_{4}}{\\left(C + 1\\right) \\sum_{t=0}^{\\infty} \\left(1 - \\left(1 - p_{x}{\\left(t \\right)}\\right)^{n}\\right)}\\right)^{1 - \\gamma}\\right) p_{x}^{k + 1}{\\left(t \\right)} {\\binom{n - 1}{k}}}{\\left(C + 1\\right) \\left(\\frac{v w_{1}}{\\left(C + 1\\right) \\sum_{t=0}^{\\infty} p_{x}{\\left(t \\right)} e^{- r t}} + \\frac{v w_{2}}{\\left(C + 1\\right) \\sum_{t=0}^{\\infty} p_{x}{\\left(t \\right)}} + \\frac{v w_{3}}{\\left(C + 1\\right) \\sum_{t=0}^{\\infty} \\left(1 - \\left(1 - p_{x}{\\left(t \\right)}\\right)^{n}\\right) e^{- r t}} + \\frac{v w_{4}}{\\left(C + 1\\right) \\sum_{t=0}^{\\infty} \\left(1 - \\left(1 - p_{x}{\\left(t \\right)}\\right)^{n}\\right)}\\right) \\sum_{t=0}^{\\infty} p_{x}{\\left(t \\right)} e^{- r t}}$"
      ],
      "text/plain": [
       "Sum(exp(-r*t)*Sum(v*(1 - p_x(t))**(-k + n - 1)*(v*w1/((C + 1)*Sum(p_x(t)*exp(-r*t), (t, 0, oo))) + v*w2/((C + 1)*Sum(p_x(t), (t, 0, oo))) + v*w3/((C + 1)*Sum((1 - (1 - p_x(t))**n)*exp(-r*t), (t, 0, oo))) + v*w4/((C + 1)*Sum(1 - (1 - p_x(t))**n, (t, 0, oo))))**(1 - gamma)*p_x(t)**(k + 1)*binomial(n - 1, k)/((C + 1)*(v*w1/((C + 1)*Sum(p_x(t)*exp(-r*t), (t, 0, oo))) + v*w2/((C + 1)*Sum(p_x(t), (t, 0, oo))) + v*w3/((C + 1)*Sum((1 - (1 - p_x(t))**n)*exp(-r*t), (t, 0, oo))) + v*w4/((C + 1)*Sum(1 - (1 - p_x(t))**n, (t, 0, oo))))*Sum(p_x(t)*exp(-r*t), (t, 0, oo))), (k, 0, n - 1)), (t, 0, oo))"
      ]
     },
     "execution_count": 18,
     "metadata": {},
     "output_type": "execute_result"
    }
   ],
   "source": [
    "diff(L, w1)"
   ]
  },
  {
   "cell_type": "code",
   "execution_count": 19,
   "metadata": {},
   "outputs": [
    {
     "data": {
      "text/latex": [
       "$\\displaystyle \\sum_{t=0}^{\\infty} e^{- r t} \\sum_{k=0}^{n - 1} \\frac{v \\left(1 - p_{x}{\\left(t \\right)}\\right)^{- k + n - 1} \\left(\\left(\\frac{v w_{1}}{\\left(C + 1\\right) \\sum_{t=0}^{\\infty} p_{x}{\\left(t \\right)} e^{- r t}} + \\frac{v w_{2}}{\\left(C + 1\\right) \\sum_{t=0}^{\\infty} p_{x}{\\left(t \\right)}} + \\frac{v w_{3}}{\\left(C + 1\\right) \\sum_{t=0}^{\\infty} \\left(1 - \\left(1 - p_{x}{\\left(t \\right)}\\right)^{n}\\right) e^{- r t}} + \\frac{v w_{4}}{\\left(C + 1\\right) \\sum_{t=0}^{\\infty} \\left(1 - \\left(1 - p_{x}{\\left(t \\right)}\\right)^{n}\\right)}\\right)^{1 - \\gamma}\\right) p_{x}^{k + 1}{\\left(t \\right)} {\\binom{n - 1}{k}}}{\\left(C + 1\\right) \\left(\\frac{v w_{1}}{\\left(C + 1\\right) \\sum_{t=0}^{\\infty} p_{x}{\\left(t \\right)} e^{- r t}} + \\frac{v w_{2}}{\\left(C + 1\\right) \\sum_{t=0}^{\\infty} p_{x}{\\left(t \\right)}} + \\frac{v w_{3}}{\\left(C + 1\\right) \\sum_{t=0}^{\\infty} \\left(1 - \\left(1 - p_{x}{\\left(t \\right)}\\right)^{n}\\right) e^{- r t}} + \\frac{v w_{4}}{\\left(C + 1\\right) \\sum_{t=0}^{\\infty} \\left(1 - \\left(1 - p_{x}{\\left(t \\right)}\\right)^{n}\\right)}\\right) \\sum_{t=0}^{\\infty} p_{x}{\\left(t \\right)}}$"
      ],
      "text/plain": [
       "Sum(exp(-r*t)*Sum(v*(1 - p_x(t))**(-k + n - 1)*(v*w1/((C + 1)*Sum(p_x(t)*exp(-r*t), (t, 0, oo))) + v*w2/((C + 1)*Sum(p_x(t), (t, 0, oo))) + v*w3/((C + 1)*Sum((1 - (1 - p_x(t))**n)*exp(-r*t), (t, 0, oo))) + v*w4/((C + 1)*Sum(1 - (1 - p_x(t))**n, (t, 0, oo))))**(1 - gamma)*p_x(t)**(k + 1)*binomial(n - 1, k)/((C + 1)*(v*w1/((C + 1)*Sum(p_x(t)*exp(-r*t), (t, 0, oo))) + v*w2/((C + 1)*Sum(p_x(t), (t, 0, oo))) + v*w3/((C + 1)*Sum((1 - (1 - p_x(t))**n)*exp(-r*t), (t, 0, oo))) + v*w4/((C + 1)*Sum(1 - (1 - p_x(t))**n, (t, 0, oo))))*Sum(p_x(t), (t, 0, oo))), (k, 0, n - 1)), (t, 0, oo))"
      ]
     },
     "execution_count": 19,
     "metadata": {},
     "output_type": "execute_result"
    }
   ],
   "source": [
    "diff(L, w2)"
   ]
  },
  {
   "cell_type": "code",
   "execution_count": 20,
   "metadata": {},
   "outputs": [
    {
     "data": {
      "text/latex": [
       "$\\displaystyle \\sum_{t=0}^{\\infty} e^{- r t} \\sum_{k=0}^{n - 1} \\frac{v \\left(1 - p_{x}{\\left(t \\right)}\\right)^{- k + n - 1} \\left(\\left(\\frac{v w_{1}}{\\left(C + 1\\right) \\sum_{t=0}^{\\infty} p_{x}{\\left(t \\right)} e^{- r t}} + \\frac{v w_{2}}{\\left(C + 1\\right) \\sum_{t=0}^{\\infty} p_{x}{\\left(t \\right)}} + \\frac{v w_{3}}{\\left(C + 1\\right) \\sum_{t=0}^{\\infty} \\left(1 - \\left(1 - p_{x}{\\left(t \\right)}\\right)^{n}\\right) e^{- r t}} + \\frac{v w_{4}}{\\left(C + 1\\right) \\sum_{t=0}^{\\infty} \\left(1 - \\left(1 - p_{x}{\\left(t \\right)}\\right)^{n}\\right)}\\right)^{1 - \\gamma}\\right) p_{x}^{k + 1}{\\left(t \\right)} {\\binom{n - 1}{k}}}{\\left(C + 1\\right) \\left(\\frac{v w_{1}}{\\left(C + 1\\right) \\sum_{t=0}^{\\infty} p_{x}{\\left(t \\right)} e^{- r t}} + \\frac{v w_{2}}{\\left(C + 1\\right) \\sum_{t=0}^{\\infty} p_{x}{\\left(t \\right)}} + \\frac{v w_{3}}{\\left(C + 1\\right) \\sum_{t=0}^{\\infty} \\left(1 - \\left(1 - p_{x}{\\left(t \\right)}\\right)^{n}\\right) e^{- r t}} + \\frac{v w_{4}}{\\left(C + 1\\right) \\sum_{t=0}^{\\infty} \\left(1 - \\left(1 - p_{x}{\\left(t \\right)}\\right)^{n}\\right)}\\right) \\sum_{t=0}^{\\infty} \\left(1 - \\left(1 - p_{x}{\\left(t \\right)}\\right)^{n}\\right) e^{- r t}}$"
      ],
      "text/plain": [
       "Sum(exp(-r*t)*Sum(v*(1 - p_x(t))**(-k + n - 1)*(v*w1/((C + 1)*Sum(p_x(t)*exp(-r*t), (t, 0, oo))) + v*w2/((C + 1)*Sum(p_x(t), (t, 0, oo))) + v*w3/((C + 1)*Sum((1 - (1 - p_x(t))**n)*exp(-r*t), (t, 0, oo))) + v*w4/((C + 1)*Sum(1 - (1 - p_x(t))**n, (t, 0, oo))))**(1 - gamma)*p_x(t)**(k + 1)*binomial(n - 1, k)/((C + 1)*(v*w1/((C + 1)*Sum(p_x(t)*exp(-r*t), (t, 0, oo))) + v*w2/((C + 1)*Sum(p_x(t), (t, 0, oo))) + v*w3/((C + 1)*Sum((1 - (1 - p_x(t))**n)*exp(-r*t), (t, 0, oo))) + v*w4/((C + 1)*Sum(1 - (1 - p_x(t))**n, (t, 0, oo))))*Sum((1 - (1 - p_x(t))**n)*exp(-r*t), (t, 0, oo))), (k, 0, n - 1)), (t, 0, oo))"
      ]
     },
     "execution_count": 20,
     "metadata": {},
     "output_type": "execute_result"
    }
   ],
   "source": [
    "diff(L, w3)"
   ]
  },
  {
   "cell_type": "code",
   "execution_count": 21,
   "metadata": {},
   "outputs": [
    {
     "data": {
      "text/latex": [
       "$\\displaystyle \\sum_{t=0}^{\\infty} e^{- r t} \\sum_{k=0}^{n - 1} \\frac{v \\left(1 - p_{x}{\\left(t \\right)}\\right)^{- k + n - 1} \\left(\\left(\\frac{v w_{1}}{\\left(C + 1\\right) \\sum_{t=0}^{\\infty} p_{x}{\\left(t \\right)} e^{- r t}} + \\frac{v w_{2}}{\\left(C + 1\\right) \\sum_{t=0}^{\\infty} p_{x}{\\left(t \\right)}} + \\frac{v w_{3}}{\\left(C + 1\\right) \\sum_{t=0}^{\\infty} \\left(1 - \\left(1 - p_{x}{\\left(t \\right)}\\right)^{n}\\right) e^{- r t}} + \\frac{v w_{4}}{\\left(C + 1\\right) \\sum_{t=0}^{\\infty} \\left(1 - \\left(1 - p_{x}{\\left(t \\right)}\\right)^{n}\\right)}\\right)^{1 - \\gamma}\\right) p_{x}^{k + 1}{\\left(t \\right)} {\\binom{n - 1}{k}}}{\\left(C + 1\\right) \\left(\\frac{v w_{1}}{\\left(C + 1\\right) \\sum_{t=0}^{\\infty} p_{x}{\\left(t \\right)} e^{- r t}} + \\frac{v w_{2}}{\\left(C + 1\\right) \\sum_{t=0}^{\\infty} p_{x}{\\left(t \\right)}} + \\frac{v w_{3}}{\\left(C + 1\\right) \\sum_{t=0}^{\\infty} \\left(1 - \\left(1 - p_{x}{\\left(t \\right)}\\right)^{n}\\right) e^{- r t}} + \\frac{v w_{4}}{\\left(C + 1\\right) \\sum_{t=0}^{\\infty} \\left(1 - \\left(1 - p_{x}{\\left(t \\right)}\\right)^{n}\\right)}\\right) \\sum_{t=0}^{\\infty} \\left(1 - \\left(1 - p_{x}{\\left(t \\right)}\\right)^{n}\\right)}$"
      ],
      "text/plain": [
       "Sum(exp(-r*t)*Sum(v*(1 - p_x(t))**(-k + n - 1)*(v*w1/((C + 1)*Sum(p_x(t)*exp(-r*t), (t, 0, oo))) + v*w2/((C + 1)*Sum(p_x(t), (t, 0, oo))) + v*w3/((C + 1)*Sum((1 - (1 - p_x(t))**n)*exp(-r*t), (t, 0, oo))) + v*w4/((C + 1)*Sum(1 - (1 - p_x(t))**n, (t, 0, oo))))**(1 - gamma)*p_x(t)**(k + 1)*binomial(n - 1, k)/((C + 1)*(v*w1/((C + 1)*Sum(p_x(t)*exp(-r*t), (t, 0, oo))) + v*w2/((C + 1)*Sum(p_x(t), (t, 0, oo))) + v*w3/((C + 1)*Sum((1 - (1 - p_x(t))**n)*exp(-r*t), (t, 0, oo))) + v*w4/((C + 1)*Sum(1 - (1 - p_x(t))**n, (t, 0, oo))))*Sum(1 - (1 - p_x(t))**n, (t, 0, oo))), (k, 0, n - 1)), (t, 0, oo))"
      ]
     },
     "execution_count": 21,
     "metadata": {},
     "output_type": "execute_result"
    }
   ],
   "source": [
    "diff(L, w4)"
   ]
  }
 ],
 "metadata": {
  "kernelspec": {
   "display_name": ".venv",
   "language": "python",
   "name": "python3"
  },
  "language_info": {
   "codemirror_mode": {
    "name": "ipython",
    "version": 3
   },
   "file_extension": ".py",
   "mimetype": "text/x-python",
   "name": "python",
   "nbconvert_exporter": "python",
   "pygments_lexer": "ipython3",
   "version": "3.12.4"
  }
 },
 "nbformat": 4,
 "nbformat_minor": 2
}
